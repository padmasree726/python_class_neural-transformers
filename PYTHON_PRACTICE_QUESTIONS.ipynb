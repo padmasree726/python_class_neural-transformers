{
  "nbformat": 4,
  "nbformat_minor": 0,
  "metadata": {
    "colab": {
      "provenance": []
    },
    "kernelspec": {
      "name": "python3",
      "display_name": "Python 3"
    },
    "language_info": {
      "name": "python"
    }
  },
  "cells": [
    {
      "cell_type": "code",
      "source": [
        "list1 =[3,4,5,9,14]\n",
        "sum=0\n",
        "for i in list1:\n",
        "    sum =sum+i\n",
        "    print(\"the sum is:\",sum)"
      ],
      "metadata": {
        "colab": {
          "base_uri": "https://localhost:8080/"
        },
        "id": "ueX6KmXYafBp",
        "outputId": "cc1ff685-209d-49f8-f59c-8defeb732c7f"
      },
      "execution_count": null,
      "outputs": [
        {
          "output_type": "stream",
          "name": "stdout",
          "text": [
            "the sumis: 3\n",
            "the sumis: 7\n",
            "the sumis: 12\n",
            "the sumis: 21\n",
            "the sumis: 35\n"
          ]
        }
      ]
    },
    {
      "cell_type": "code",
      "source": [],
      "metadata": {
        "id": "aiReyVpoAbFe"
      },
      "execution_count": null,
      "outputs": []
    },
    {
      "cell_type": "code",
      "source": [
        "a=[2,12,5,24,103,31,9,17,8]\n",
        "even=0\n",
        "for i in a:\n",
        "  if i%2==0:\n",
        "   even = even+1\n",
        "print(\"count of even=\",even)\n"
      ],
      "metadata": {
        "colab": {
          "base_uri": "https://localhost:8080/"
        },
        "id": "k3JTHMVReAQ5",
        "outputId": "cce36769-e480-437e-99df-c73c263f9362"
      },
      "execution_count": null,
      "outputs": [
        {
          "output_type": "stream",
          "name": "stdout",
          "text": [
            "count of even= 4\n"
          ]
        }
      ]
    },
    {
      "cell_type": "code",
      "source": [
        "a=\"kishore\"\n",
        "# for loop\n",
        "# while loop\n",
        "string=\"\"\n",
        "for i in range (len(a)):\n",
        "   print (i)\n",
        "   string= a[i]+string\n",
        "string\n",
        "\n"
      ],
      "metadata": {
        "colab": {
          "base_uri": "https://localhost:8080/",
          "height": 157
        },
        "id": "eVMA_W47fy-5",
        "outputId": "9e8f557c-9125-4b17-90be-377b5890eeab"
      },
      "execution_count": null,
      "outputs": [
        {
          "output_type": "stream",
          "name": "stdout",
          "text": [
            "0\n",
            "1\n",
            "2\n",
            "3\n",
            "4\n",
            "5\n",
            "6\n"
          ]
        },
        {
          "output_type": "execute_result",
          "data": {
            "text/plain": [
              "'erohsik'"
            ],
            "application/vnd.google.colaboratory.intrinsic+json": {
              "type": "string"
            }
          },
          "metadata": {},
          "execution_count": 23
        }
      ]
    },
    {
      "cell_type": "code",
      "source": [
        "a=(1,2,3,4,)\n",
        "print(list)"
      ],
      "metadata": {
        "colab": {
          "base_uri": "https://localhost:8080/"
        },
        "id": "66TcdlPJ_CzS",
        "outputId": "e9706343-a4e0-4b4a-e647-e1cecc215369"
      },
      "execution_count": null,
      "outputs": [
        {
          "output_type": "stream",
          "name": "stdout",
          "text": [
            "[1, 2, 3, 4]\n"
          ]
        }
      ]
    },
    {
      "cell_type": "code",
      "source": [
        "a={\"a\":1,\"b\":2,\"c\":4}\n",
        "b={\"d\":5,\"e\":6}\n",
        "c={**a,**b}\n",
        "print(c)"
      ],
      "metadata": {
        "colab": {
          "base_uri": "https://localhost:8080/"
        },
        "id": "yp-A_cRmuTmm",
        "outputId": "3960c092-52a8-419c-f7d9-d26f991dc27d"
      },
      "execution_count": null,
      "outputs": [
        {
          "output_type": "stream",
          "name": "stdout",
          "text": [
            "{'a': 1, 'b': 2, 'c': 4, 'd': 5, 'e': 6}\n"
          ]
        }
      ]
    },
    {
      "cell_type": "code",
      "source": [
        " x=[2,3,4,5,5,4,3,2]\n",
        " print(list(set(x)))"
      ],
      "metadata": {
        "colab": {
          "base_uri": "https://localhost:8080/"
        },
        "id": "7TsHemRLu2oE",
        "outputId": "590b3b67-c448-4122-eda3-53becc10f47b"
      },
      "execution_count": null,
      "outputs": [
        {
          "output_type": "stream",
          "name": "stdout",
          "text": [
            "[2, 3, 4, 5]\n"
          ]
        }
      ]
    },
    {
      "cell_type": "code",
      "source": [
        "num=[1,2,3,4,5]\n",
        "if numbers == sorted (num) :\n",
        "  print(\"list is sorted\")\n",
        "else:\n",
        "  print(\"list is not sorted\")"
      ],
      "metadata": {
        "colab": {
          "base_uri": "https://localhost:8080/"
        },
        "id": "oZ0_Z1kE6i22",
        "outputId": "eee2da78-d845-4ff1-eb44-4a52804fe60f"
      },
      "execution_count": null,
      "outputs": [
        {
          "output_type": "stream",
          "name": "stdout",
          "text": [
            "list is sorted\n"
          ]
        }
      ]
    }
  ]
}