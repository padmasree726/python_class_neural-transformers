{
  "nbformat": 4,
  "nbformat_minor": 0,
  "metadata": {
    "colab": {
      "provenance": [],
      "include_colab_link": true
    },
    "kernelspec": {
      "name": "python3",
      "display_name": "Python 3"
    },
    "language_info": {
      "name": "python"
    }
  },
  "cells": [
    {
      "cell_type": "markdown",
      "metadata": {
        "id": "view-in-github",
        "colab_type": "text"
      },
      "source": [
        "<a href=\"https://colab.research.google.com/github/padmasree726/python_class_neural-transformers/blob/main/if_elif_else_(1).ipynb\" target=\"_parent\"><img src=\"https://colab.research.google.com/assets/colab-badge.svg\" alt=\"Open In Colab\"/></a>"
      ]
    },
    {
      "cell_type": "code",
      "execution_count": null,
      "metadata": {
        "colab": {
          "base_uri": "https://localhost:8080/"
        },
        "id": "P6TBMf3xLhjc",
        "outputId": "1258c312-5300-41e2-de72-21b96f91673d"
      },
      "outputs": [
        {
          "output_type": "stream",
          "name": "stdout",
          "text": [
            "padma\n"
          ]
        }
      ],
      "source": [
        "name=\"padma\"\n",
        "print(name)\n"
      ]
    },
    {
      "cell_type": "code",
      "source": [],
      "metadata": {
        "id": "SuegQVkcUyA4"
      },
      "execution_count": null,
      "outputs": []
    },
    {
      "cell_type": "code",
      "source": [
        "name=input()\n",
        "print(name)\n"
      ],
      "metadata": {
        "colab": {
          "base_uri": "https://localhost:8080/"
        },
        "id": "Y6pjLwQ-MTxn",
        "outputId": "496f1b3d-98dd-4e03-9dc6-d5fc5f5f5be4"
      },
      "execution_count": null,
      "outputs": [
        {
          "output_type": "stream",
          "name": "stdout",
          "text": [
            "kani\n",
            "kani\n"
          ]
        }
      ]
    },
    {
      "cell_type": "code",
      "source": [
        "name=input()\n",
        "print(name)\n"
      ],
      "metadata": {
        "colab": {
          "base_uri": "https://localhost:8080/"
        },
        "id": "_d93FvBoMv2f",
        "outputId": "9a69caf6-5066-40fd-f8a8-d81128ea6956"
      },
      "execution_count": null,
      "outputs": [
        {
          "output_type": "stream",
          "name": "stdout",
          "text": [
            "kishore\n",
            "kishore\n"
          ]
        }
      ]
    },
    {
      "cell_type": "code",
      "source": [
        "name=input()\n"
      ],
      "metadata": {
        "colab": {
          "base_uri": "https://localhost:8080/"
        },
        "id": "oA3q1K2iPuEc",
        "outputId": "b1c573e9-82f9-466c-d969-9de40301599b"
      },
      "execution_count": null,
      "outputs": [
        {
          "name": "stdout",
          "output_type": "stream",
          "text": [
            "riya\n"
          ]
        }
      ]
    },
    {
      "cell_type": "code",
      "source": [
        "a=int(input())\n",
        "b=int(input())\n",
        "print(a*b)"
      ],
      "metadata": {
        "colab": {
          "base_uri": "https://localhost:8080/"
        },
        "id": "xTKUZn1dP0IQ",
        "outputId": "883328e2-0b5f-47cd-eea9-ad909920cf41"
      },
      "execution_count": null,
      "outputs": [
        {
          "output_type": "stream",
          "name": "stdout",
          "text": [
            "2\n",
            "3\n",
            "6\n"
          ]
        }
      ]
    },
    {
      "cell_type": "code",
      "source": [
        "a =int(input(\"Enter the aadhar number a\"))\n",
        "b =int(input(\"Enter the pan number b\"))\n",
        "print(a*b)\n"
      ],
      "metadata": {
        "colab": {
          "base_uri": "https://localhost:8080/"
        },
        "id": "_qAjftsjQtTx",
        "outputId": "8c00384a-0fda-451a-ec19-ff3bb107627b"
      },
      "execution_count": null,
      "outputs": [
        {
          "output_type": "stream",
          "name": "stdout",
          "text": [
            "Enter the aadhar number a2345678573870\n",
            "Enter the pan number b89745756987\n",
            "210514699260149748129690\n"
          ]
        }
      ]
    },
    {
      "cell_type": "code",
      "source": [
        "name = input(\"enter your name\")\n",
        "if name == \"aishu\":\n",
        "  print(\"give all access\")\n",
        "else:\n",
        "  print(\"give only student access\")"
      ],
      "metadata": {
        "colab": {
          "base_uri": "https://localhost:8080/"
        },
        "id": "Yl0_m4hPVAkQ",
        "outputId": "a71f36cd-f7c6-4c87-98b5-5424e40990e3"
      },
      "execution_count": null,
      "outputs": [
        {
          "output_type": "stream",
          "name": "stdout",
          "text": [
            "enter your name\n",
            "give only student access\n"
          ]
        }
      ]
    },
    {
      "cell_type": "code",
      "source": [
        "if 10>5:\n",
        "  print(\"true\")\n"
      ],
      "metadata": {
        "colab": {
          "base_uri": "https://localhost:8080/"
        },
        "id": "g7-xuHV4JAJe",
        "outputId": "a76861d3-bb20-413c-95f2-a40fe7048dd6"
      },
      "execution_count": null,
      "outputs": [
        {
          "output_type": "stream",
          "name": "stdout",
          "text": [
            "true\n"
          ]
        }
      ]
    },
    {
      "cell_type": "code",
      "source": [
        "if (10>5)and (2>1):\n",
        "  print(\"true\")"
      ],
      "metadata": {
        "colab": {
          "base_uri": "https://localhost:8080/"
        },
        "id": "yC9p_X0iJ6cM",
        "outputId": "bc06429a-9c94-4a30-9460-7028c5859788"
      },
      "execution_count": null,
      "outputs": [
        {
          "output_type": "stream",
          "name": "stdout",
          "text": [
            "true\n"
          ]
        }
      ]
    },
    {
      "cell_type": "code",
      "source": [
        "a=[\"padma\",\"charu\",\"priya\"]\n",
        "name=input(\"enter your name\")\n",
        "if name==\"rukesh\":\n",
        "  print(\"given all access\")\n",
        "elif name==(\"padma\"):\n",
        "  print(\"special access\")\n",
        "elif name==\"ben\":\n",
        "  print(\"spl access\")\n",
        "else:\n",
        "  print (\"give only student access\")"
      ],
      "metadata": {
        "colab": {
          "base_uri": "https://localhost:8080/"
        },
        "id": "64c4ahYlKcee",
        "outputId": "05404cf0-b9d1-4623-d567-7523570dd323"
      },
      "execution_count": null,
      "outputs": [
        {
          "output_type": "stream",
          "name": "stdout",
          "text": [
            "enter your namepadma\n",
            "special access\n"
          ]
        }
      ]
    },
    {
      "cell_type": "code",
      "source": [],
      "metadata": {
        "id": "cfMWjiYPQsoo"
      },
      "execution_count": null,
      "outputs": []
    },
    {
      "cell_type": "code",
      "source": [
        "age =int(input(\"please enter your age \"))\n",
        "if age > 5 or age<15:\n",
        "  print(\"cycle\")\n",
        "elif age >15 and age <30:\n",
        "  print(\"bike\")\n",
        "elif age >30 and age<50:\n",
        "  print(\"car\")\n",
        "else:\n",
        "  print(\"nothing\")"
      ],
      "metadata": {
        "colab": {
          "base_uri": "https://localhost:8080/"
        },
        "id": "N8QGAgdcOjVv",
        "outputId": "04e82bde-cf0e-4113-9993-99305cef9958"
      },
      "execution_count": null,
      "outputs": [
        {
          "output_type": "stream",
          "name": "stdout",
          "text": [
            "please enter your age 27\n",
            "cycle\n"
          ]
        }
      ]
    }
  ]
}