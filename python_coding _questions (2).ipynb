{
 "cells": [
  {
   "cell_type": "code",
   "execution_count": 1,
   "id": "e6f002e8-d883-4c42-ba9a-5c1674487b4f",
   "metadata": {},
   "outputs": [],
   "source": [
    "#1.write a program to take a name and age from the user and print a greeting message.\n"
   ]
  },
  {
   "cell_type": "code",
   "execution_count": 5,
   "id": "8bb1c6cf-c78c-4eee-bcee-9fbabbfbf182",
   "metadata": {},
   "outputs": [
    {
     "name": "stdin",
     "output_type": "stream",
     "text": [
      "your Name: padma\n",
      "your age : 21\n"
     ]
    },
    {
     "name": "stdout",
     "output_type": "stream",
     "text": [
      "Hello padma welcome to our class and confirm your age is :21\n"
     ]
    }
   ],
   "source": [
    "user_name = input(\"your Name:\")\n",
    "user_age  = input(\"your age :\")\n",
    "                 \n",
    "print(f\"Hello {user_name} welcome to our class and confirm your age is :{user_age}\")"
   ]
  },
  {
   "cell_type": "code",
   "execution_count": null,
   "id": "19762e30-d0f5-4ac3-b754-68e8037c99b6",
   "metadata": {},
   "outputs": [],
   "source": [
    "#2. Create a list of numbers and print only even numbers using a for loop.\n"
   ]
  },
  {
   "cell_type": "code",
   "execution_count": 7,
   "id": "38ba9091-0b23-41de-9848-ced627bd78cd",
   "metadata": {},
   "outputs": [
    {
     "name": "stdout",
     "output_type": "stream",
     "text": [
      "[2, 4, 6, 8, 10, 12, 14, 16, 18, 20, 22, 24, 26, 28, 30, 32, 34, 36, 38, 40, 42, 44, 46, 48, 50]\n"
     ]
    }
   ],
   "source": [
    "numbers = range(1,51)\n",
    "even_numbers = []\n",
    "\n",
    "for i in numbers:\n",
    "    if i%2 == 0:\n",
    "        even_numbers.append(i)\n",
    "print (even_numbers)        "
   ]
  },
  {
   "cell_type": "code",
   "execution_count": null,
   "id": "e5585d39-601c-4603-82df-c3c43771fe04",
   "metadata": {},
   "outputs": [],
   "source": [
    "#3. given a string, count how manyvowels it has ."
   ]
  },
  {
   "cell_type": "code",
   "execution_count": 9,
   "id": "7099c4ed-ec35-444f-9833-37b51411dde4",
   "metadata": {},
   "outputs": [
    {
     "name": "stdin",
     "output_type": "stream",
     "text": [
      "Enter any words or sentence: hi iam padmasree\n"
     ]
    },
    {
     "name": "stdout",
     "output_type": "stream",
     "text": [
      "total number of vowels are : 7\n"
     ]
    }
   ],
   "source": [
    "user_input = input(\"Enter any words or sentence:\")\n",
    "count =0 \n",
    "for i in user_input:\n",
    "    if i in \"aeiou\":\n",
    "        count= count+1\n",
    "print(\"total number of vowels are :\",count)   \n"
   ]
  },
  {
   "cell_type": "code",
   "execution_count": null,
   "id": "29954987-28da-4f46-a776-77b281c7f760",
   "metadata": {},
   "outputs": [],
   "source": []
  }
 ],
 "metadata": {
  "kernelspec": {
   "display_name": "Python 3 (ipykernel)",
   "language": "python",
   "name": "python3"
  },
  "language_info": {
   "codemirror_mode": {
    "name": "ipython",
    "version": 3
   },
   "file_extension": ".py",
   "mimetype": "text/x-python",
   "name": "python",
   "nbconvert_exporter": "python",
   "pygments_lexer": "ipython3",
   "version": "3.13.5"
  }
 },
 "nbformat": 4,
 "nbformat_minor": 5
}
