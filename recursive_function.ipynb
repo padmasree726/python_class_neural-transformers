{
  "nbformat": 4,
  "nbformat_minor": 0,
  "metadata": {
    "colab": {
      "provenance": []
    },
    "kernelspec": {
      "name": "python3",
      "display_name": "Python 3"
    },
    "language_info": {
      "name": "python"
    }
  },
  "cells": [
    {
      "cell_type": "code",
      "execution_count": null,
      "metadata": {
        "colab": {
          "base_uri": "https://localhost:8080/"
        },
        "id": "ZFj6N60rstEV",
        "outputId": "c07f500a-4097-4770-e171-6ed08ee544dc"
      },
      "outputs": [
        {
          "output_type": "stream",
          "name": "stdout",
          "text": [
            "6\n"
          ]
        }
      ],
      "source": [
        "def gcd(a,b):\n",
        "    if b == 0:\n",
        "      return a\n",
        "    else :\n",
        "      return gcd (b, a % b)\n",
        "\n",
        "print (gcd(48,18))\n",
        "\n"
      ]
    },
    {
      "cell_type": "code",
      "source": [
        "def power (x,n):\n",
        "  if n== 0:\n",
        "      return 1\n",
        "  return x * power (x, n-1)\n",
        "\n",
        "print(power(2,4))\n"
      ],
      "metadata": {
        "colab": {
          "base_uri": "https://localhost:8080/"
        },
        "id": "LBMWnbWwuQBb",
        "outputId": "6d256bfc-5f52-4b7a-f480-de49392406ce"
      },
      "execution_count": null,
      "outputs": [
        {
          "output_type": "stream",
          "name": "stdout",
          "text": [
            "16\n"
          ]
        }
      ]
    },
    {
      "cell_type": "code",
      "source": [
        "def factorial (n):\n",
        "  if n ==0:\n",
        "    return 1\n",
        "  return n * factorial(n-1)\n",
        "\n",
        "print (factorial(5))"
      ],
      "metadata": {
        "colab": {
          "base_uri": "https://localhost:8080/"
        },
        "id": "RjOxLrlSvR5W",
        "outputId": "aad58de4-3742-4715-d39a-694f1d258f60"
      },
      "execution_count": null,
      "outputs": [
        {
          "output_type": "stream",
          "name": "stdout",
          "text": [
            "120\n"
          ]
        }
      ]
    },
    {
      "cell_type": "code",
      "source": [],
      "metadata": {
        "id": "p3WAcp02vxRc"
      },
      "execution_count": null,
      "outputs": []
    }
  ]
}