{
 "cells": [
  {
   "cell_type": "code",
   "execution_count": 6,
   "id": "6cf1a786-4cca-4065-90c7-96b4276cb60d",
   "metadata": {},
   "outputs": [],
   "source": [
    "import pandas as pd\n"
   ]
  },
  {
   "cell_type": "code",
   "execution_count": 4,
   "id": "1b642757-0b15-4e1b-b3ef-1f4fdce60769",
   "metadata": {},
   "outputs": [
    {
     "name": "stdout",
     "output_type": "stream",
     "text": [
      "Requirement already satisfied: pandas in c:\\users\\kisho\\downloads\\p\\lib\\site-packages (2.2.3)\n",
      "Requirement already satisfied: numpy>=1.26.0 in c:\\users\\kisho\\downloads\\p\\lib\\site-packages (from pandas) (2.1.3)\n",
      "Requirement already satisfied: python-dateutil>=2.8.2 in c:\\users\\kisho\\downloads\\p\\lib\\site-packages (from pandas) (2.9.0.post0)\n",
      "Requirement already satisfied: pytz>=2020.1 in c:\\users\\kisho\\downloads\\p\\lib\\site-packages (from pandas) (2024.1)\n",
      "Requirement already satisfied: tzdata>=2022.7 in c:\\users\\kisho\\downloads\\p\\lib\\site-packages (from pandas) (2025.2)\n",
      "Requirement already satisfied: six>=1.5 in c:\\users\\kisho\\downloads\\p\\lib\\site-packages (from python-dateutil>=2.8.2->pandas) (1.17.0)\n"
     ]
    }
   ],
   "source": [
    "!pip install pandas"
   ]
  },
  {
   "cell_type": "code",
   "execution_count": 11,
   "id": "cf695cc2-21fd-4523-90d8-1daee6f77ed1",
   "metadata": {},
   "outputs": [],
   "source": [
    "df = pd.read_csv(r\"C:\\Users\\kisho\\OneDrive\\文件\\car_sales.csv\")"
   ]
  },
  {
   "cell_type": "code",
   "execution_count": 13,
   "id": "3f56056b-b23f-4075-b10c-a1240958019e",
   "metadata": {},
   "outputs": [
    {
     "data": {
      "text/html": [
       "<div>\n",
       "<style scoped>\n",
       "    .dataframe tbody tr th:only-of-type {\n",
       "        vertical-align: middle;\n",
       "    }\n",
       "\n",
       "    .dataframe tbody tr th {\n",
       "        vertical-align: top;\n",
       "    }\n",
       "\n",
       "    .dataframe thead th {\n",
       "        text-align: right;\n",
       "    }\n",
       "</style>\n",
       "<table border=\"1\" class=\"dataframe\">\n",
       "  <thead>\n",
       "    <tr style=\"text-align: right;\">\n",
       "      <th></th>\n",
       "      <th>Manufacturer</th>\n",
       "      <th>Model</th>\n",
       "      <th>Sales_in_thousands</th>\n",
       "      <th>__year_resale_value</th>\n",
       "      <th>Vehicle_type</th>\n",
       "      <th>Price_in_thousands</th>\n",
       "      <th>Engine_size</th>\n",
       "      <th>Horsepower</th>\n",
       "      <th>Wheelbase</th>\n",
       "      <th>Width</th>\n",
       "      <th>Length</th>\n",
       "      <th>Curb_weight</th>\n",
       "      <th>Fuel_capacity</th>\n",
       "      <th>Fuel_efficiency</th>\n",
       "      <th>Latest_Launch</th>\n",
       "      <th>Power_perf_factor</th>\n",
       "    </tr>\n",
       "  </thead>\n",
       "  <tbody>\n",
       "    <tr>\n",
       "      <th>0</th>\n",
       "      <td>Acura</td>\n",
       "      <td>Integra</td>\n",
       "      <td>16.919</td>\n",
       "      <td>16.360</td>\n",
       "      <td>Passenger</td>\n",
       "      <td>21.50</td>\n",
       "      <td>1.8</td>\n",
       "      <td>140.0</td>\n",
       "      <td>101.2</td>\n",
       "      <td>67.3</td>\n",
       "      <td>172.4</td>\n",
       "      <td>2.639</td>\n",
       "      <td>13.2</td>\n",
       "      <td>28.0</td>\n",
       "      <td>2/2/2012</td>\n",
       "      <td>58.280150</td>\n",
       "    </tr>\n",
       "    <tr>\n",
       "      <th>1</th>\n",
       "      <td>Acura</td>\n",
       "      <td>TL</td>\n",
       "      <td>39.384</td>\n",
       "      <td>19.875</td>\n",
       "      <td>Passenger</td>\n",
       "      <td>28.40</td>\n",
       "      <td>3.2</td>\n",
       "      <td>225.0</td>\n",
       "      <td>108.1</td>\n",
       "      <td>70.3</td>\n",
       "      <td>192.9</td>\n",
       "      <td>3.517</td>\n",
       "      <td>17.2</td>\n",
       "      <td>25.0</td>\n",
       "      <td>6/3/2011</td>\n",
       "      <td>91.370778</td>\n",
       "    </tr>\n",
       "    <tr>\n",
       "      <th>2</th>\n",
       "      <td>Acura</td>\n",
       "      <td>CL</td>\n",
       "      <td>14.114</td>\n",
       "      <td>18.225</td>\n",
       "      <td>Passenger</td>\n",
       "      <td>NaN</td>\n",
       "      <td>3.2</td>\n",
       "      <td>225.0</td>\n",
       "      <td>106.9</td>\n",
       "      <td>70.6</td>\n",
       "      <td>192.0</td>\n",
       "      <td>3.470</td>\n",
       "      <td>17.2</td>\n",
       "      <td>26.0</td>\n",
       "      <td>1/4/2012</td>\n",
       "      <td>NaN</td>\n",
       "    </tr>\n",
       "    <tr>\n",
       "      <th>3</th>\n",
       "      <td>Acura</td>\n",
       "      <td>RL</td>\n",
       "      <td>8.588</td>\n",
       "      <td>29.725</td>\n",
       "      <td>Passenger</td>\n",
       "      <td>42.00</td>\n",
       "      <td>3.5</td>\n",
       "      <td>210.0</td>\n",
       "      <td>114.6</td>\n",
       "      <td>71.4</td>\n",
       "      <td>196.6</td>\n",
       "      <td>3.850</td>\n",
       "      <td>18.0</td>\n",
       "      <td>22.0</td>\n",
       "      <td>3/10/2011</td>\n",
       "      <td>91.389779</td>\n",
       "    </tr>\n",
       "    <tr>\n",
       "      <th>4</th>\n",
       "      <td>Audi</td>\n",
       "      <td>A4</td>\n",
       "      <td>20.397</td>\n",
       "      <td>22.255</td>\n",
       "      <td>Passenger</td>\n",
       "      <td>23.99</td>\n",
       "      <td>1.8</td>\n",
       "      <td>150.0</td>\n",
       "      <td>102.6</td>\n",
       "      <td>68.2</td>\n",
       "      <td>178.0</td>\n",
       "      <td>2.998</td>\n",
       "      <td>16.4</td>\n",
       "      <td>27.0</td>\n",
       "      <td>10/8/2011</td>\n",
       "      <td>62.777639</td>\n",
       "    </tr>\n",
       "    <tr>\n",
       "      <th>...</th>\n",
       "      <td>...</td>\n",
       "      <td>...</td>\n",
       "      <td>...</td>\n",
       "      <td>...</td>\n",
       "      <td>...</td>\n",
       "      <td>...</td>\n",
       "      <td>...</td>\n",
       "      <td>...</td>\n",
       "      <td>...</td>\n",
       "      <td>...</td>\n",
       "      <td>...</td>\n",
       "      <td>...</td>\n",
       "      <td>...</td>\n",
       "      <td>...</td>\n",
       "      <td>...</td>\n",
       "      <td>...</td>\n",
       "    </tr>\n",
       "    <tr>\n",
       "      <th>152</th>\n",
       "      <td>Volvo</td>\n",
       "      <td>V40</td>\n",
       "      <td>3.545</td>\n",
       "      <td>NaN</td>\n",
       "      <td>Passenger</td>\n",
       "      <td>24.40</td>\n",
       "      <td>1.9</td>\n",
       "      <td>160.0</td>\n",
       "      <td>100.5</td>\n",
       "      <td>67.6</td>\n",
       "      <td>176.6</td>\n",
       "      <td>3.042</td>\n",
       "      <td>15.8</td>\n",
       "      <td>25.0</td>\n",
       "      <td>9/21/2011</td>\n",
       "      <td>66.498812</td>\n",
       "    </tr>\n",
       "    <tr>\n",
       "      <th>153</th>\n",
       "      <td>Volvo</td>\n",
       "      <td>S70</td>\n",
       "      <td>15.245</td>\n",
       "      <td>NaN</td>\n",
       "      <td>Passenger</td>\n",
       "      <td>27.50</td>\n",
       "      <td>2.4</td>\n",
       "      <td>168.0</td>\n",
       "      <td>104.9</td>\n",
       "      <td>69.3</td>\n",
       "      <td>185.9</td>\n",
       "      <td>3.208</td>\n",
       "      <td>17.9</td>\n",
       "      <td>25.0</td>\n",
       "      <td>11/24/2012</td>\n",
       "      <td>70.654495</td>\n",
       "    </tr>\n",
       "    <tr>\n",
       "      <th>154</th>\n",
       "      <td>Volvo</td>\n",
       "      <td>V70</td>\n",
       "      <td>17.531</td>\n",
       "      <td>NaN</td>\n",
       "      <td>Passenger</td>\n",
       "      <td>28.80</td>\n",
       "      <td>2.4</td>\n",
       "      <td>168.0</td>\n",
       "      <td>104.9</td>\n",
       "      <td>69.3</td>\n",
       "      <td>186.2</td>\n",
       "      <td>3.259</td>\n",
       "      <td>17.9</td>\n",
       "      <td>25.0</td>\n",
       "      <td>6/25/2011</td>\n",
       "      <td>71.155978</td>\n",
       "    </tr>\n",
       "    <tr>\n",
       "      <th>155</th>\n",
       "      <td>Volvo</td>\n",
       "      <td>C70</td>\n",
       "      <td>3.493</td>\n",
       "      <td>NaN</td>\n",
       "      <td>Passenger</td>\n",
       "      <td>45.50</td>\n",
       "      <td>2.3</td>\n",
       "      <td>236.0</td>\n",
       "      <td>104.9</td>\n",
       "      <td>71.5</td>\n",
       "      <td>185.7</td>\n",
       "      <td>3.601</td>\n",
       "      <td>18.5</td>\n",
       "      <td>23.0</td>\n",
       "      <td>4/26/2011</td>\n",
       "      <td>101.623357</td>\n",
       "    </tr>\n",
       "    <tr>\n",
       "      <th>156</th>\n",
       "      <td>Volvo</td>\n",
       "      <td>S80</td>\n",
       "      <td>18.969</td>\n",
       "      <td>NaN</td>\n",
       "      <td>Passenger</td>\n",
       "      <td>36.00</td>\n",
       "      <td>2.9</td>\n",
       "      <td>201.0</td>\n",
       "      <td>109.9</td>\n",
       "      <td>72.1</td>\n",
       "      <td>189.8</td>\n",
       "      <td>3.600</td>\n",
       "      <td>21.1</td>\n",
       "      <td>24.0</td>\n",
       "      <td>11/14/2011</td>\n",
       "      <td>85.735655</td>\n",
       "    </tr>\n",
       "  </tbody>\n",
       "</table>\n",
       "<p>157 rows × 16 columns</p>\n",
       "</div>"
      ],
      "text/plain": [
       "    Manufacturer    Model  Sales_in_thousands  __year_resale_value  \\\n",
       "0          Acura  Integra              16.919               16.360   \n",
       "1          Acura       TL              39.384               19.875   \n",
       "2          Acura       CL              14.114               18.225   \n",
       "3          Acura       RL               8.588               29.725   \n",
       "4           Audi       A4              20.397               22.255   \n",
       "..           ...      ...                 ...                  ...   \n",
       "152        Volvo      V40               3.545                  NaN   \n",
       "153        Volvo      S70              15.245                  NaN   \n",
       "154        Volvo      V70              17.531                  NaN   \n",
       "155        Volvo      C70               3.493                  NaN   \n",
       "156        Volvo      S80              18.969                  NaN   \n",
       "\n",
       "    Vehicle_type  Price_in_thousands  Engine_size  Horsepower  Wheelbase  \\\n",
       "0      Passenger               21.50          1.8       140.0      101.2   \n",
       "1      Passenger               28.40          3.2       225.0      108.1   \n",
       "2      Passenger                 NaN          3.2       225.0      106.9   \n",
       "3      Passenger               42.00          3.5       210.0      114.6   \n",
       "4      Passenger               23.99          1.8       150.0      102.6   \n",
       "..           ...                 ...          ...         ...        ...   \n",
       "152    Passenger               24.40          1.9       160.0      100.5   \n",
       "153    Passenger               27.50          2.4       168.0      104.9   \n",
       "154    Passenger               28.80          2.4       168.0      104.9   \n",
       "155    Passenger               45.50          2.3       236.0      104.9   \n",
       "156    Passenger               36.00          2.9       201.0      109.9   \n",
       "\n",
       "     Width  Length  Curb_weight  Fuel_capacity  Fuel_efficiency Latest_Launch  \\\n",
       "0     67.3   172.4        2.639           13.2             28.0      2/2/2012   \n",
       "1     70.3   192.9        3.517           17.2             25.0      6/3/2011   \n",
       "2     70.6   192.0        3.470           17.2             26.0      1/4/2012   \n",
       "3     71.4   196.6        3.850           18.0             22.0     3/10/2011   \n",
       "4     68.2   178.0        2.998           16.4             27.0     10/8/2011   \n",
       "..     ...     ...          ...            ...              ...           ...   \n",
       "152   67.6   176.6        3.042           15.8             25.0     9/21/2011   \n",
       "153   69.3   185.9        3.208           17.9             25.0    11/24/2012   \n",
       "154   69.3   186.2        3.259           17.9             25.0     6/25/2011   \n",
       "155   71.5   185.7        3.601           18.5             23.0     4/26/2011   \n",
       "156   72.1   189.8        3.600           21.1             24.0    11/14/2011   \n",
       "\n",
       "     Power_perf_factor  \n",
       "0            58.280150  \n",
       "1            91.370778  \n",
       "2                  NaN  \n",
       "3            91.389779  \n",
       "4            62.777639  \n",
       "..                 ...  \n",
       "152          66.498812  \n",
       "153          70.654495  \n",
       "154          71.155978  \n",
       "155         101.623357  \n",
       "156          85.735655  \n",
       "\n",
       "[157 rows x 16 columns]"
      ]
     },
     "execution_count": 13,
     "metadata": {},
     "output_type": "execute_result"
    }
   ],
   "source": [
    "df"
   ]
  },
  {
   "cell_type": "code",
   "execution_count": null,
   "id": "ed73247e-4595-44da-828b-5bac0b5c143c",
   "metadata": {},
   "outputs": [],
   "source": [
    "#what is the correlation between price_in_thousands and horsepower ?"
   ]
  },
  {
   "cell_type": "code",
   "execution_count": 12,
   "id": "175feee9-5c80-43c4-8078-a136a8e9e16e",
   "metadata": {},
   "outputs": [
    {
     "data": {
      "text/plain": [
       "np.float64(0.8397441610580522)"
      ]
     },
     "execution_count": 12,
     "metadata": {},
     "output_type": "execute_result"
    }
   ],
   "source": [
    "df['Price_in_thousands'].corr(df['Horsepower'])\n"
   ]
  },
  {
   "cell_type": "code",
   "execution_count": null,
   "id": "5afaf0cb-9e89-4c2e-bc48-4f57200d58d6",
   "metadata": {},
   "outputs": [],
   "source": [
    "#does higher horsepower lead to higher sales(sales in thousands)?"
   ]
  },
  {
   "cell_type": "code",
   "execution_count": 14,
   "id": "d10dcb11-ed8f-4ab6-84e5-b4d9fdeedc3d",
   "metadata": {},
   "outputs": [
    {
     "data": {
      "text/plain": [
       "np.float64(-0.19775624722016558)"
      ]
     },
     "execution_count": 14,
     "metadata": {},
     "output_type": "execute_result"
    }
   ],
   "source": [
    "df['Horsepower'].corr(df['Sales_in_thousands'])"
   ]
  },
  {
   "cell_type": "code",
   "execution_count": null,
   "id": "4fc9e355-674c-40c1-8a06-6d8ca1b8e139",
   "metadata": {},
   "outputs": [],
   "source": [
    "# Is there a relationship between engine_size and fuel_efficiency?"
   ]
  },
  {
   "cell_type": "code",
   "execution_count": 15,
   "id": "5278b4dd-aea3-4342-9d85-d5a5dcad4c5f",
   "metadata": {},
   "outputs": [
    {
     "data": {
      "text/plain": [
       "np.float64(-0.7346219729032691)"
      ]
     },
     "execution_count": 15,
     "metadata": {},
     "output_type": "execute_result"
    }
   ],
   "source": [
    "df['Engine_size'].corr(df['Fuel_efficiency'])"
   ]
  },
  {
   "cell_type": "code",
   "execution_count": null,
   "id": "ec66ae80-54da-4edb-b93c-ea355ab2f500",
   "metadata": {},
   "outputs": [],
   "source": [
    "#does a larger car (based on length, width, curb_weight) vary with price and horsepower?"
   ]
  },
  {
   "cell_type": "code",
   "execution_count": 16,
   "id": "a8ce689f-d62d-4bda-9041-26d8ef0e964f",
   "metadata": {},
   "outputs": [
    {
     "data": {
      "text/plain": [
       "Length        -0.446756\n",
       "Width         -0.602546\n",
       "Curb_weight   -0.818402\n",
       "dtype: float64"
      ]
     },
     "execution_count": 16,
     "metadata": {},
     "output_type": "execute_result"
    }
   ],
   "source": [
    "df[['Length', 'Width', 'Curb_weight']].corrwith(df['Fuel_efficiency'])\n"
   ]
  }
 ],
 "metadata": {
  "kernelspec": {
   "display_name": "Python 3 (ipykernel)",
   "language": "python",
   "name": "python3"
  },
  "language_info": {
   "codemirror_mode": {
    "name": "ipython",
    "version": 3
   },
   "file_extension": ".py",
   "mimetype": "text/x-python",
   "name": "python",
   "nbconvert_exporter": "python",
   "pygments_lexer": "ipython3",
   "version": "3.13.5"
  }
 },
 "nbformat": 4,
 "nbformat_minor": 5
}
